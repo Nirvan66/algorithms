{
 "cells": [
  {
   "cell_type": "code",
   "execution_count": 1,
   "metadata": {},
   "outputs": [
    {
     "data": {
      "text/html": [
       "<img src=\"../imgs/quickSort.png\"/>"
      ],
      "text/plain": [
       "<IPython.core.display.Image object>"
      ]
     },
     "execution_count": 1,
     "metadata": {},
     "output_type": "execute_result"
    }
   ],
   "source": [
    "from IPython.display import Image\n",
    "from IPython.core.display import HTML \n",
    "Image(url= \"../imgs/quickSort.png\")"
   ]
  },
  {
   "cell_type": "raw",
   "metadata": {},
   "source": [
    "Time complexity: O(n log(n))"
   ]
  },
  {
   "cell_type": "code",
   "execution_count": null,
   "metadata": {},
   "outputs": [],
   "source": [
    "def partition(arr, left, right): \n",
    "    print('###########################NEW############################') \n",
    "    pivot = left \n",
    "    pivote  = arr[pivot] \n",
    "    a = arr \n",
    "    print([str(i)+'*' if idx==left or idx==right else str(i) for idx,i in enumerate(a)]) \n",
    "    while left<right: \n",
    "        while left<len(arr) and arr[left]<=pivote: \n",
    "            left += 1 \n",
    "            print('left',[str(i)+'*' if idx==left or idx==right else str(i) for idx,i in enumerate(a)]) \n",
    "\n",
    "        while arr[right]>pivote: \n",
    "            right -= 1 \n",
    "            print('right',[str(i)+'*' if idx==left or idx==right else str(i) for idx,i in enumerate(a)]) \n",
    "\n",
    "        if left<right:\n",
    "            print(\"Swapping {} at {} <----> {} at {}\".format(arr[left],left, arr[right],right)) \n",
    "            arr[left], arr[right] = arr[right], arr[left] \n",
    "            print([str(i)+'*' if idx==left or idx==right else str(i) for idx,i in enumerate(a)]) \n",
    "            print(\"\\n\") \n",
    "\n",
    "    print(\"\\tDone\\n\") \n",
    "    print([str(i)+'*' if idx==left or idx==right else str(i) for idx,i in enumerate(a)]) \n",
    "    wall = right \n",
    "    print(\"Final swapping {} at {} <----> {} at {}\".format(arr[pivot],pivot, arr[wall],wall)) \n",
    "    arr[wall], arr[pivot] = arr[pivot], arr[wall] \n",
    "    print([str(i)+'*' if idx==wall else str(i) for idx,i in enumerate(a)]) \n",
    "    return wall \n",
    "\n",
    "  \n",
    "\n",
    "def quick(arr, left, right): \n",
    "    if left<right: \n",
    "        wall = partition(arr, left, right) \n",
    "        quick(arr, left, wall-1) \n",
    "        quick(arr, wall+1, right) "
   ]
  }
 ],
 "metadata": {
  "kernelspec": {
   "display_name": "Python 3",
   "language": "python",
   "name": "python3"
  },
  "language_info": {
   "codemirror_mode": {
    "name": "ipython",
    "version": 3
   },
   "file_extension": ".py",
   "mimetype": "text/x-python",
   "name": "python",
   "nbconvert_exporter": "python",
   "pygments_lexer": "ipython3",
   "version": "3.8.3"
  }
 },
 "nbformat": 4,
 "nbformat_minor": 4
}

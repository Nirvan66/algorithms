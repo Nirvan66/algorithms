{
 "cells": [
  {
   "cell_type": "markdown",
   "metadata": {},
   "source": [
    "# Bubble Sort"
   ]
  },
  {
   "cell_type": "markdown",
   "metadata": {},
   "source": [
    "<img src=\"images/bubbleSort.png\" width=\"400\" />\n",
    "\n",
    "\n",
    "* Best case: O(n)\n",
    "* Average case: O(n^2)"
   ]
  },
  {
   "cell_type": "markdown",
   "metadata": {},
   "source": [
    "![Kernel & front-end diagram](images/bubbleSort.png)"
   ]
  },
  {
   "cell_type": "markdown",
   "metadata": {},
   "source": [
    "# Qucik Sort"
   ]
  },
  {
   "cell_type": "markdown",
   "metadata": {},
   "source": []
  },
  {
   "cell_type": "markdown",
   "metadata": {},
   "source": [
    "![Cat](imgs\\quickSort.png)\n",
    "\n",
    "Time complexity: O(n log(n))"
   ]
  },
  {
   "cell_type": "code",
   "execution_count": null,
   "metadata": {},
   "outputs": [],
   "source": [
    "def partition(arr, left, right): \n",
    "    print('###########################NEW############################') \n",
    "    pivot = left \n",
    "    pivote  = arr[pivot] \n",
    "    a = arr \n",
    "    print([str(i)+'*' if idx==left or idx==right else str(i) for idx,i in enumerate(a)]) \n",
    "    while left<right: \n",
    "        while left<len(arr) and arr[left]<=pivote: \n",
    "            left += 1 \n",
    "            print('left',[str(i)+'*' if idx==left or idx==right else str(i) for idx,i in enumerate(a)]) \n",
    "\n",
    "        while arr[right]>pivote: \n",
    "            right -= 1 \n",
    "            print('right',[str(i)+'*' if idx==left or idx==right else str(i) for idx,i in enumerate(a)]) \n",
    "\n",
    "        if left<right:\n",
    "            print(\"Swapping {} at {} <----> {} at {}\".format(arr[left],left, arr[right],right)) \n",
    "            arr[left], arr[right] = arr[right], arr[left] \n",
    "            print([str(i)+'*' if idx==left or idx==right else str(i) for idx,i in enumerate(a)]) \n",
    "            print(\"\\n\") \n",
    "\n",
    "    print(\"\\tDone\\n\") \n",
    "    print([str(i)+'*' if idx==left or idx==right else str(i) for idx,i in enumerate(a)]) \n",
    "    wall = right \n",
    "    print(\"Final swapping {} at {} <----> {} at {}\".format(arr[pivot],pivot, arr[wall],wall)) \n",
    "    arr[wall], arr[pivot] = arr[pivot], arr[wall] \n",
    "    print([str(i)+'*' if idx==wall else str(i) for idx,i in enumerate(a)]) \n",
    "    return wall \n",
    "\n",
    "  \n",
    "\n",
    "def quick(arr, left, right): \n",
    "    if left<right: \n",
    "        wall = partition(arr, left, right) \n",
    "        quick(arr, left, wall-1) \n",
    "        quick(arr, wall+1, right) "
   ]
  },
  {
   "cell_type": "markdown",
   "metadata": {},
   "source": [
    "# Selection Sort"
   ]
  },
  {
   "cell_type": "markdown",
   "metadata": {},
   "source": [
    "![Cat](imgs\\selectionSort.png)"
   ]
  }
 ],
 "metadata": {
  "interpreter": {
   "hash": "38740d3277777e2cd7c6c2cc9d8addf5118fdf3f82b1b39231fd12aeac8aee8b"
  },
  "kernelspec": {
   "display_name": "Python 3.7.9 ('base')",
   "language": "python",
   "name": "python3"
  },
  "language_info": {
   "codemirror_mode": {
    "name": "ipython",
    "version": 3
   },
   "file_extension": ".py",
   "mimetype": "text/x-python",
   "name": "python",
   "nbconvert_exporter": "python",
   "pygments_lexer": "ipython3",
   "version": "3.7.9"
  },
  "orig_nbformat": 4
 },
 "nbformat": 4,
 "nbformat_minor": 2
}

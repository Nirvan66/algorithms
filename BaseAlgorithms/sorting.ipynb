{
 "cells": [
  {
   "cell_type": "markdown",
   "metadata": {},
   "source": [
    "# Bubble Sort"
   ]
  },
  {
   "cell_type": "code",
   "execution_count": 1,
   "metadata": {},
   "outputs": [
    {
     "data": {
      "text/html": [
       "<img src=\"../imgs/bubbleSort.png\"/>"
      ],
      "text/plain": [
       "<IPython.core.display.Image object>"
      ]
     },
     "execution_count": 1,
     "metadata": {},
     "output_type": "execute_result"
    }
   ],
   "source": [
    "from IPython.display import Image\n",
    "from IPython.core.display import HTML \n",
    "Image(url= \"../imgs/bubbleSort.png\")"
   ]
  },
  {
   "cell_type": "markdown",
   "metadata": {},
   "source": [
    "* Best case: O(n)\n",
    "* Average case: O(n^2)"
   ]
  },
  {
   "cell_type": "markdown",
   "metadata": {},
   "source": [
    "# Qucik Sort"
   ]
  },
  {
   "cell_type": "code",
   "execution_count": null,
   "metadata": {},
   "outputs": [
    {
     "data": {
      "text/html": [
       "<img src=\"../imgs/quickSort.png\"/>"
      ],
      "text/plain": [
       "<IPython.core.display.Image object>"
      ]
     },
     "metadata": {},
     "output_type": "display_data"
    }
   ],
   "source": [
    "Image(url= \"../imgs/quickSort.png\")"
   ]
  },
  {
   "cell_type": "raw",
   "metadata": {},
   "source": [
    "Time complexity: O(n log(n))"
   ]
  },
  {
   "cell_type": "code",
   "execution_count": null,
   "metadata": {},
   "outputs": [],
   "source": [
    "def partition(arr, left, right): \n",
    "    print('###########################NEW############################') \n",
    "    pivot = left \n",
    "    pivote  = arr[pivot] \n",
    "    a = arr \n",
    "    print([str(i)+'*' if idx==left or idx==right else str(i) for idx,i in enumerate(a)]) \n",
    "    while left<right: \n",
    "        while left<len(arr) and arr[left]<=pivote: \n",
    "            left += 1 \n",
    "            print('left',[str(i)+'*' if idx==left or idx==right else str(i) for idx,i in enumerate(a)]) \n",
    "\n",
    "        while arr[right]>pivote: \n",
    "            right -= 1 \n",
    "            print('right',[str(i)+'*' if idx==left or idx==right else str(i) for idx,i in enumerate(a)]) \n",
    "\n",
    "        if left<right:\n",
    "            print(\"Swapping {} at {} <----> {} at {}\".format(arr[left],left, arr[right],right)) \n",
    "            arr[left], arr[right] = arr[right], arr[left] \n",
    "            print([str(i)+'*' if idx==left or idx==right else str(i) for idx,i in enumerate(a)]) \n",
    "            print(\"\\n\") \n",
    "\n",
    "    print(\"\\tDone\\n\") \n",
    "    print([str(i)+'*' if idx==left or idx==right else str(i) for idx,i in enumerate(a)]) \n",
    "    wall = right \n",
    "    print(\"Final swapping {} at {} <----> {} at {}\".format(arr[pivot],pivot, arr[wall],wall)) \n",
    "    arr[wall], arr[pivot] = arr[pivot], arr[wall] \n",
    "    print([str(i)+'*' if idx==wall else str(i) for idx,i in enumerate(a)]) \n",
    "    return wall \n",
    "\n",
    "  \n",
    "\n",
    "def quick(arr, left, right): \n",
    "    if left<right: \n",
    "        wall = partition(arr, left, right) \n",
    "        quick(arr, left, wall-1) \n",
    "        quick(arr, wall+1, right) "
   ]
  },
  {
   "cell_type": "markdown",
   "metadata": {},
   "source": [
    "# Selection Sort"
   ]
  },
  {
   "cell_type": "code",
   "execution_count": 2,
   "metadata": {},
   "outputs": [
    {
     "data": {
      "text/html": [
       "<img src=\"../imgs/selectionSort.png\"/>"
      ],
      "text/plain": [
       "<IPython.core.display.Image object>"
      ]
     },
     "execution_count": 2,
     "metadata": {},
     "output_type": "execute_result"
    }
   ],
   "source": [
    "from IPython.display import Image\n",
    "from IPython.core.display import HTML \n",
    "Image(url= \"../imgs/selectionSort.png\")"
   ]
  }
 ],
 "metadata": {
  "interpreter": {
   "hash": "38740d3277777e2cd7c6c2cc9d8addf5118fdf3f82b1b39231fd12aeac8aee8b"
  },
  "kernelspec": {
   "display_name": "Python 3.7.9 ('base')",
   "language": "python",
   "name": "python3"
  },
  "language_info": {
   "codemirror_mode": {
    "name": "ipython",
    "version": 3
   },
   "file_extension": ".py",
   "mimetype": "text/x-python",
   "name": "python",
   "nbconvert_exporter": "python",
   "pygments_lexer": "ipython3",
   "version": "3.7.9"
  },
  "orig_nbformat": 4
 },
 "nbformat": 4,
 "nbformat_minor": 2
}

{
 "cells": [
  {
   "cell_type": "markdown",
   "metadata": {},
   "source": [
    "# Fibonacci"
   ]
  },
  {
   "cell_type": "markdown",
   "metadata": {},
   "source": [
    "## Recursion"
   ]
  },
  {
   "cell_type": "markdown",
   "metadata": {},
   "source": [
    "```\n",
    "Find fib of nth element\n",
    "\n",
    "eg n=6\n",
    "6th fib element\n",
    "0, 1, 1, 2, 3, 5, 8\n",
    "\n",
    "fib of 0th element -> 0\n",
    "fib of 1st element -> 1\n",
    "fin of 2nd element -> 1 -> 1st + 0th -> (2-1)th + (2-2)th\n",
    "\n",
    "recurence: (n-1) + (n-2)\n",
    "stopping codition: n == 1: 1; n == 0: 0;\n",
    "\n",
    "Time complexity: Recursion tree: O(2^n)\n",
    "                                                                                         Worst case function Calls \n",
    "                                                   fib(5)                                             1 - 2^0\n",
    "                           fib(4)                                            fib(3)                   2 - 2^1\n",
    "                 fib(3)                fib(2)                     fib(2)                fib(1)        4 - 2^2\n",
    "            fib(2)    fib(1)      fib(1)    fib(0)           fib(1)    fib(0)                         8 - 2^3\n",
    "        fin(1) fib(0)                                                                                 16 - 2^4\n",
    "\n",
    "Space complexity: O(1) -> Not really cause of call stack\n",
    "```"
   ]
  },
  {
   "cell_type": "code",
   "execution_count": 3,
   "metadata": {},
   "outputs": [
    {
     "data": {
      "text/plain": [
       "8"
      ]
     },
     "execution_count": 3,
     "metadata": {},
     "output_type": "execute_result"
    }
   ],
   "source": [
    "def fib(n):\n",
    "    if n==1:\n",
    "        return 1\n",
    "    elif n==0:\n",
    "        return 0\n",
    "    else:\n",
    "        return fib(n-1) + fib(n-2)\n",
    "fib(6)"
   ]
  },
  {
   "cell_type": "markdown",
   "metadata": {},
   "source": [
    "## Memorization\n",
    "Time complexity: O(n)"
   ]
  },
  {
   "cell_type": "code",
   "execution_count": 11,
   "metadata": {},
   "outputs": [
    {
     "data": {
      "text/plain": [
       "8"
      ]
     },
     "execution_count": 11,
     "metadata": {},
     "output_type": "execute_result"
    }
   ],
   "source": [
    "def fib(n):\n",
    "    if n==0:\n",
    "        return 0\n",
    "    elif n==1:\n",
    "        return 1\n",
    "    else:\n",
    "        fibArr=[0,1]\n",
    "        for i in range(2,n+1):\n",
    "            fibArr.append(fibArr[i-1] + fibArr[i-2])\n",
    "        return fibArr[-1]\n",
    "fib(6)"
   ]
  },
  {
   "cell_type": "code",
   "execution_count": null,
   "metadata": {},
   "outputs": [],
   "source": []
  }
 ],
 "metadata": {
  "kernelspec": {
   "display_name": "Python 3",
   "language": "python",
   "name": "python3"
  },
  "language_info": {
   "codemirror_mode": {
    "name": "ipython",
    "version": 3
   },
   "file_extension": ".py",
   "mimetype": "text/x-python",
   "name": "python",
   "nbconvert_exporter": "python",
   "pygments_lexer": "ipython3",
   "version": "3.8.3"
  }
 },
 "nbformat": 4,
 "nbformat_minor": 4
}

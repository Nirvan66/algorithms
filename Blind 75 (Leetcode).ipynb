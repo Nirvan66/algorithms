{
 "cells": [
  {
   "cell_type": "markdown",
   "metadata": {
    "heading_collapsed": true
   },
   "source": [
    "# Two sum problem\n",
    "* https://www.youtube.com/watch?v=KLlXCFG5TnA&list=PLot-Xpze53ldVwtstag2TL4HQhAnC8ATf&ab_channel=NeetCode\n",
    "* https://leetcode.com/problems/two-sum/"
   ]
  },
  {
   "cell_type": "markdown",
   "metadata": {
    "hidden": true
   },
   "source": [
    "### Sorting list first"
   ]
  },
  {
   "cell_type": "raw",
   "metadata": {
    "hidden": true
   },
   "source": [
    "   *  *\n",
    "[2,7,11,15] 18\n",
    "2 + 15 = 17 < 18\n",
    "7 + 15 = 22 >18\n",
    "\n",
    "Runtime: time to sort O(log(n)*n)"
   ]
  },
  {
   "cell_type": "code",
   "execution_count": 2,
   "metadata": {
    "hidden": true
   },
   "outputs": [],
   "source": [
    "def twoSum(nums, target):\n",
    "    sortedNums = sorted(nums)\n",
    "    left = 0\n",
    "    right = len(nums) - 1\n",
    "    while left < right:\n",
    "        currentSum = sortedNums[left] + sortedNums[right]\n",
    "        if currentSum == target:\n",
    "            return [\n",
    "                nums.index(sortedNums[left]),\n",
    "                nums.index(sortedNums[right])\n",
    "            ]\n",
    "        # answer is too small\n",
    "        # move left pointer right to increase sum\n",
    "        # increase sum\n",
    "        elif currentSum < target:\n",
    "            left += 1\n",
    "        # answer is too big\n",
    "        # move right pointer left to decrease sum\n",
    "        # reduce sum\n",
    "        elif currentSum > target:\n",
    "            right -= 1"
   ]
  },
  {
   "cell_type": "code",
   "execution_count": 3,
   "metadata": {
    "hidden": true
   },
   "outputs": [
    {
     "name": "stdout",
     "output_type": "stream",
     "text": [
      "[0, 1]\n",
      "[1, 2]\n"
     ]
    }
   ],
   "source": [
    "print(twoSum([2, 7, 11, 15], 9))  # [0, 1]\n",
    "print(twoSum([3, 2, 4], 6))  # [1, 2]"
   ]
  },
  {
   "cell_type": "markdown",
   "metadata": {
    "hidden": true
   },
   "source": [
    "### Hashmap"
   ]
  },
  {
   "cell_type": "raw",
   "metadata": {
    "hidden": true
   },
   "source": [
    "[2,11,7,15] \n",
    "target = 9\n",
    "\n",
    "2 + 7 = 9\n",
    "9 - 2 = 7\n",
    "first find 2 in the list. add its index to hash map\n",
    "next go down the list to find 7,  9 - 7 = 2\n",
    "Since two is already in hash map, return its index\n",
    "\n",
    "\n",
    "hashmap:\n",
    "val:index\n",
    "{ 2: 0, # 9 - 2 = 7 check if 7 is in the hash map, NO, move onto next element in the list\n",
    "  11: 1, # 9 - 11 = -2 check if -2 is in the hash map, NO, move onto next element in the list\n",
    "  7: 2, # 9 - 7 = 2 check if 2 is in the hash map, Yes, return index of 2 from hash map and 7\n",
    "}\n",
    "\n",
    "Time complexity: O(n) one pass of the list\n",
    "Space compexity: O(n) entire list has to be stored in the hash map"
   ]
  },
  {
   "cell_type": "code",
   "execution_count": 8,
   "metadata": {
    "hidden": true
   },
   "outputs": [],
   "source": [
    "def twoSum(nums, target):\n",
    "    valIndexLookup = {}\n",
    "    for idx, number in enumerate(nums):\n",
    "        difference = target - number\n",
    "        fistNumberIndex = valIndexLookup.get(difference)\n",
    "        if fistNumberIndex is not None:\n",
    "            return [fistNumberIndex, idx]\n",
    "        valIndexLookup[number] = idx"
   ]
  },
  {
   "cell_type": "code",
   "execution_count": 9,
   "metadata": {
    "hidden": true
   },
   "outputs": [
    {
     "name": "stdout",
     "output_type": "stream",
     "text": [
      "[0, 1]\n",
      "[1, 2]\n"
     ]
    }
   ],
   "source": [
    "print(twoSum([2, 7, 11, 15], 9))  # [0, 1]\n",
    "print(twoSum([3, 2, 4], 6))  # [1, 2]"
   ]
  },
  {
   "cell_type": "markdown",
   "metadata": {
    "heading_collapsed": true
   },
   "source": [
    "# Best time to buy and sell stock - #121\n",
    "* https://www.youtube.com/watch?v=1pkOgXD63yU&list=PLot-Xpze53ldVwtstag2TL4HQhAnC8ATf&index=2&ab_channel=NeetCode"
   ]
  },
  {
   "cell_type": "raw",
   "metadata": {
    "hidden": true
   },
   "source": [
    "  -6  4  2  5  3 \n",
    "[7, 1, 5, 3, 6, 4]\n",
    "\n",
    "  -6  1  4  -3  2 \n",
    "[10, 4, 5, 8, 1, 2]\n",
    "maxProfit = -inf\n",
    "lowestPoint = 0\n",
    "forwardPointer = 1\n",
    "\n",
    "forwardPointer - lowestPoint = profit\n",
    "\n",
    "4 - 10 = -6; \n",
    "if (-6 < 0) => lowestPoint =  1 \n",
    "if (-6 > -inf) => maxProfit = -6\n",
    "forwardPointer = 2\n",
    "\n",
    "5 - 4 = 1; \n",
    "if (1 < 0) =>  \n",
    "if (1 > -6) => maxProfit = 1\n",
    "forwardPointer = 3\n",
    "\n",
    "8 - 4 = 4; \n",
    "if (4 < 0) =>  \n",
    "if (4 > 1) => maxProfit = 4\n",
    "forwardPointer = 4\n",
    "\n",
    "1 - 4 = -3; \n",
    "if (-3 < 0) => lowestPoint = 4\n",
    "if (-3 > 1) => \n",
    "forwardPointer = 5\n",
    "\n",
    "1 - 4 = -3; \n",
    "if (-3 < 0) => lowestPoint = 4\n",
    "if (-3 > 1) => \n",
    "forwardPointer = 5"
   ]
  },
  {
   "cell_type": "code",
   "execution_count": 21,
   "metadata": {
    "hidden": true
   },
   "outputs": [],
   "source": [
    "def maxProfit(prices):\n",
    "    maxprof = 0\n",
    "    lowestPoint = 0\n",
    "    forwardPointer = 1\n",
    "    lenght = len(prices)\n",
    "    while (forwardPointer<lenght):\n",
    "        profit = prices[forwardPointer] - prices[lowestPoint]\n",
    "        if profit < 0:\n",
    "            lowestPoint = forwardPointer\n",
    "        else:\n",
    "            if profit > maxprof:\n",
    "                maxprof = profit\n",
    "        forwardPointer += 1\n",
    "    return maxprof"
   ]
  },
  {
   "cell_type": "code",
   "execution_count": 22,
   "metadata": {
    "hidden": true
   },
   "outputs": [
    {
     "data": {
      "text/plain": [
       "5"
      ]
     },
     "execution_count": 22,
     "metadata": {},
     "output_type": "execute_result"
    }
   ],
   "source": [
    "maxProfit([7,1,5,3,6,4]) #5"
   ]
  },
  {
   "cell_type": "code",
   "execution_count": null,
   "metadata": {
    "hidden": true
   },
   "outputs": [],
   "source": [
    "# "
   ]
  },
  {
   "cell_type": "markdown",
   "metadata": {},
   "source": [
    "# Next"
   ]
  },
  {
   "cell_type": "code",
   "execution_count": null,
   "metadata": {},
   "outputs": [],
   "source": []
  }
 ],
 "metadata": {
  "kernelspec": {
   "display_name": "Python 3",
   "language": "python",
   "name": "python3"
  },
  "language_info": {
   "codemirror_mode": {
    "name": "ipython",
    "version": 3
   },
   "file_extension": ".py",
   "mimetype": "text/x-python",
   "name": "python",
   "nbconvert_exporter": "python",
   "pygments_lexer": "ipython3",
   "version": "3.8.3"
  }
 },
 "nbformat": 4,
 "nbformat_minor": 4
}

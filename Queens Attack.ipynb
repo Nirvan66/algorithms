{
 "cells": [
  {
   "cell_type": "markdown",
   "metadata": {},
   "source": [
    "# Brute Force\n",
    "* c*O(n)"
   ]
  },
  {
   "cell_type": "code",
   "execution_count": 1,
   "metadata": {},
   "outputs": [
    {
     "data": {
      "text/plain": [
       "0"
      ]
     },
     "execution_count": 1,
     "metadata": {},
     "output_type": "execute_result"
    }
   ],
   "source": [
    "#!/bin/python3\n",
    "# https://www.hackerrank.com/challenges/queens-attack-2/problem?isFullScreen=true\n",
    "\n",
    "import math\n",
    "import os\n",
    "import random\n",
    "import re\n",
    "import sys\n",
    "\n",
    "#\n",
    "# Complete the 'queensAttack' function below.\n",
    "#\n",
    "# The function is expected to return an INTEGER.\n",
    "# The function accepts following parameters:\n",
    "#  1. INTEGER n\n",
    "#  2. INTEGER k\n",
    "#  3. INTEGER r_q\n",
    "#  4. INTEGER c_q\n",
    "#  5. 2D_INTEGER_ARRAY obstacles\n",
    "#\n",
    "# (5,1), (5,2), (5,3), (5,4), (5,5)\n",
    "# (3,1), (3,2), (3,3), (3,4)\n",
    "# (2,1), (2,2), (2,3), (2,4)\n",
    "# (1,1), (1,2), (1,3), (1,4)\n",
    "# horizontal cells queene can visit: (r, range(0,c))\n",
    "# vertical cells queene can visit: (range(0, r), c)\n",
    "# main diagonal cells: ri, ci (ri-1, ci+1) (ri+1, ci-1)\n",
    "# secondary diagonal cells: (ri-1, ci-1) (ri+1, ci+1)\n",
    "\n",
    "def checkObstacle(obstacles, cell):\n",
    "    if cell in obstacles:\n",
    "        obstacles.remove(cell)\n",
    "        return True\n",
    "    else:\n",
    "        return False\n",
    "\n",
    "def queensAttack(n, k, r_q, c_q, obstacles):\n",
    "    # Write your code here\n",
    "    # horizontal move forward\n",
    "    cellsVisited = 0\n",
    "    for ci in range(c_q+1, n+1):\n",
    "        if checkObstacle(obstacles, [r_q, ci]):\n",
    "            break\n",
    "        cellsVisited += 1\n",
    "    # horizontal move backward\n",
    "    for ci in range(c_q-1, 0, -1):\n",
    "        if checkObstacle(obstacles, [r_q, ci]):\n",
    "            break\n",
    "        cellsVisited += 1\n",
    "    \n",
    "    # vertical move forward\n",
    "    vertical = []\n",
    "    for ri in range(r_q+1, n+1):\n",
    "        if checkObstacle(obstacles, [ri, c_q]):\n",
    "            break\n",
    "        cellsVisited += 1\n",
    "    # horizontal move backward\n",
    "    for ri in range(r_q-1, 0, -1):\n",
    "        if checkObstacle(obstacles, [ri, c_q]):\n",
    "            break\n",
    "        cellsVisited += 1\n",
    "\n",
    "    # diagonal main forward\n",
    "    r_i = r_q - 1\n",
    "    c_i = c_q + 1\n",
    "    while r_i>0 and c_i<=n:\n",
    "        if checkObstacle(obstacles, [r_i, c_i]):\n",
    "            break\n",
    "        cellsVisited += 1\n",
    "        r_i -= 1\n",
    "        c_i += 1\n",
    "    # diagonal main backward\n",
    "    r_i = r_q + 1\n",
    "    c_i = c_q - 1 \n",
    "    while r_i<=n and c_i>0:\n",
    "        if checkObstacle(obstacles, [r_i, c_i]):\n",
    "            break\n",
    "        cellsVisited += 1\n",
    "        r_i += 1\n",
    "        c_i -= 1\n",
    "    \n",
    "    # diagonal secondar forward\n",
    "    r_i = r_q + 1\n",
    "    c_i = c_q + 1\n",
    "    while r_i<=n and c_i<=n:\n",
    "        if checkObstacle(obstacles, [r_i, c_i]):\n",
    "            break\n",
    "        cellsVisited += 1\n",
    "        r_i += 1\n",
    "        c_i += 1\n",
    "    \n",
    "    # diagonal secondar backward\n",
    "    r_i = r_q - 1\n",
    "    c_i = c_q - 1 \n",
    "    while r_i>0 and c_i>0:\n",
    "        if checkObstacle(obstacles, [r_i, c_i]):\n",
    "            break\n",
    "        cellsVisited += 1\n",
    "        r_i -= 1\n",
    "        c_i -= 1\n",
    "    \n",
    "    return cellsVisited\n",
    "        \n",
    "\n",
    "# (4,1), (4,2), (4,3), (4,4)\n",
    "# (3,1), (3,2), (3,3), (3,4)\n",
    "# (2,1), (2,2), (2,3), (2,4)\n",
    "# (1,1), (1,2), (1,3), (1,4)\n",
    "        \n",
    "arr = [[20001, 20002], \n",
    "[20001, 20004], \n",
    "[20000, 20003],\n",
    "[20002, 20003],\n",
    "[20000, 20004],\n",
    "[20000, 20002],\n",
    "[20002, 20004],\n",
    "[20002, 20002],\n",
    "[564, 323]]\n",
    "queensAttack(88587, len(arr), 20001, 20003,   arr)"
   ]
  },
  {
   "cell_type": "markdown",
   "metadata": {},
   "source": [
    "formula for all cells of main diagonal: r-1, c+1 subract one and add one or vice versa\n",
    "formula for all cells of secondary diaganal: r-1, c-1 subract both or add both\n",
    "\n",
    "cells forward of main diagonal: min(bottom, right)"
   ]
  },
  {
   "cell_type": "code",
   "execution_count": null,
   "metadata": {},
   "outputs": [],
   "source": [
    "# https://www.youtube.com/watch?v=kCn1iVkboxM&ab_channel=BaylorBreaksItDown\n",
    "# https://programs.programmingoneonone.com/2021/03/hackerrank-queens-attack-ii-solution.html"
   ]
  },
  {
   "cell_type": "code",
   "execution_count": null,
   "metadata": {},
   "outputs": [],
   "source": []
  },
  {
   "cell_type": "code",
   "execution_count": null,
   "metadata": {},
   "outputs": [],
   "source": [
    "# 3\n",
    "3 * (2) * (1) = 6\n",
    "              3\n",
    "    2                    "
   ]
  },
  {
   "cell_type": "code",
   "execution_count": 5,
   "metadata": {},
   "outputs": [
    {
     "data": {
      "text/plain": [
       "120"
      ]
     },
     "execution_count": 5,
     "metadata": {},
     "output_type": "execute_result"
    }
   ],
   "source": [
    "def extraLongFactorials(n):\n",
    "    # Write your code here\n",
    "    if n==1:\n",
    "        return 1\n",
    "    return n * extraLongFactorials(n-1)\n",
    "extraLongFactorials(5)"
   ]
  },
  {
   "cell_type": "code",
   "execution_count": null,
   "metadata": {},
   "outputs": [],
   "source": []
  }
 ],
 "metadata": {
  "kernelspec": {
   "display_name": "Python 3",
   "language": "python",
   "name": "python3"
  },
  "language_info": {
   "codemirror_mode": {
    "name": "ipython",
    "version": 3
   },
   "file_extension": ".py",
   "mimetype": "text/x-python",
   "name": "python",
   "nbconvert_exporter": "python",
   "pygments_lexer": "ipython3",
   "version": "3.8.3"
  }
 },
 "nbformat": 4,
 "nbformat_minor": 4
}

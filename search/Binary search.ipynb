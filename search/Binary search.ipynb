{
 "cells": [
  {
   "cell_type": "raw",
   "metadata": {},
   "source": [
    "Search sorted list. \n",
    "low, mid, high\n",
    "if element being searched is lesser than mid -> high = mid-1; mid = (high - low)/2\n",
    "if element being searched is greater than mid -> low = mid+1; mid = low + (high - low)/2\n",
    "stoping codition low<high\n",
    "\n",
    "arr = [1, 3, 5, 7, 9]\n",
    "serchItem = 1\n",
    "step0:\n",
    "low = 0\n",
    "high = 4\n",
    "mid = (4 - 0)/2 = 2\n",
    "\n",
    "step1:\n",
    "arr[mid] > searchItem\n",
    "high = mid - 1 = 1\n",
    "mid = (1 - 0)/2 = 1\n",
    "\n",
    "step2:\n",
    "arr[mid] > searchItem\n",
    "high = mid - 1 = 0\n",
    "mid = (0 - 0)/2 = 0\n",
    "\n",
    "step3:\n",
    "arr[mid] == searchItem\n",
    "# Found\n",
    "\n",
    "# Time complexity\n",
    "n/2 + n/4 + n/8 + .... k time\n",
    "n/(2^k) = 1\n",
    "log2(n) = k"
   ]
  },
  {
   "cell_type": "code",
   "execution_count": 17,
   "metadata": {},
   "outputs": [],
   "source": [
    "def binarySearch(arr, searchItem, low, high):\n",
    "    if low>high:\n",
    "        return -1\n",
    "    mid = low + (high - low)//2\n",
    "    if arr[mid] == searchItem:\n",
    "        return mid\n",
    "    elif arr[mid] < searchItem:\n",
    "        low = mid + 1\n",
    "        return binarySearch(arr, searchItem, low, high)\n",
    "    elif arr[mid] > searchItem:\n",
    "        high = mid - 1\n",
    "        return binarySearch(arr, searchItem, low, high)"
   ]
  },
  {
   "cell_type": "code",
   "execution_count": 18,
   "metadata": {},
   "outputs": [
    {
     "data": {
      "text/plain": [
       "-1"
      ]
     },
     "execution_count": 18,
     "metadata": {},
     "output_type": "execute_result"
    }
   ],
   "source": [
    "arr = [1,3,4,6,7,8,9]\n",
    "searchItem = 0\n",
    "binarySearch(arr, searchItem, 0, len(arr))"
   ]
  },
  {
   "cell_type": "code",
   "execution_count": null,
   "metadata": {},
   "outputs": [],
   "source": []
  }
 ],
 "metadata": {
  "kernelspec": {
   "display_name": "Python 3",
   "language": "python",
   "name": "python3"
  },
  "language_info": {
   "codemirror_mode": {
    "name": "ipython",
    "version": 3
   },
   "file_extension": ".py",
   "mimetype": "text/x-python",
   "name": "python",
   "nbconvert_exporter": "python",
   "pygments_lexer": "ipython3",
   "version": "3.8.3"
  }
 },
 "nbformat": 4,
 "nbformat_minor": 4
}

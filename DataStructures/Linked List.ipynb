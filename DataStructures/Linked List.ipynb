{
 "cells": [
  {
   "cell_type": "code",
   "execution_count": 1,
   "metadata": {},
   "outputs": [],
   "source": [
    "from dataclasses import dataclass, field \n",
    "\n",
    "@dataclass \n",
    "class Node: \n",
    "    data: None \n",
    "    nextP: None = field(init=False, default=None) \n",
    "\n",
    "  \n",
    "\n",
    "@dataclass \n",
    "class LinkedList:\n",
    "    headP: Node  \n",
    "    def __typeCheck(fun): \n",
    "        def inner(*args, **kwargs): \n",
    "            if not isinstance(args[1], Node): \n",
    "                raise TypeError(\"Only node type objects can be appended to linked list\") \n",
    "            return fun(*args, **kwargs) \n",
    "        return inner \n",
    "\n",
    "     \n",
    "\n",
    "    @__typeCheck \n",
    "    def append(self, addNode:Node) -> None: #1->4->6-> \n",
    "        currNode = prevNode = self.headP \n",
    "        # node is inserted in the begining of list \n",
    "        if addNode.data < currNode.data: \n",
    "            addNode.nextP = currNode \n",
    "            self.headP = addNode \n",
    "            return \n",
    "\n",
    "        # node in the middle of list \n",
    "        while currNode.nextP != None: \n",
    "            if currNode.data > addNode.data:  \n",
    "                addNode.nextP = currNode \n",
    "                prevNode.nextP = addNode \n",
    "                return \n",
    "            prevNode = currNode  \n",
    "            currNode = currNode.nextP \n",
    "\n",
    "        # end of list \n",
    "        if currNode.data > addNode.data: \n",
    "            addNode.nextP = currNode \n",
    "            prevNode.nextP = addNode \n",
    "        else: \n",
    "            currNode.nextP = addNode \n",
    "\n",
    "#     def reverse(self) -> None: \n",
    "#         currNode = self.headP \n",
    "#         while currNode \n",
    "\n",
    "    def printList(self) -> None: \n",
    "        currNode = self.headP \n",
    "        listLine = '' \n",
    "        while currNode != None: \n",
    "            listLine += f'|{currNode.data}|->' \n",
    "            currNode = currNode.nextP \n",
    "        print(listLine) "
   ]
  },
  {
   "cell_type": "code",
   "execution_count": null,
   "metadata": {},
   "outputs": [],
   "source": []
  },
  {
   "cell_type": "code",
   "execution_count": null,
   "metadata": {},
   "outputs": [],
   "source": []
  },
  {
   "cell_type": "code",
   "execution_count": null,
   "metadata": {},
   "outputs": [],
   "source": []
  }
 ],
 "metadata": {
  "kernelspec": {
   "display_name": "Python 3",
   "language": "python",
   "name": "python3"
  },
  "language_info": {
   "codemirror_mode": {
    "name": "ipython",
    "version": 3
   },
   "file_extension": ".py",
   "mimetype": "text/x-python",
   "name": "python",
   "nbconvert_exporter": "python",
   "pygments_lexer": "ipython3",
   "version": "3.8.3"
  }
 },
 "nbformat": 4,
 "nbformat_minor": 4
}

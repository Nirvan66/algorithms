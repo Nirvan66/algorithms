{
 "cells": [
  {
   "cell_type": "markdown",
   "metadata": {},
   "source": [
    "# Adjecency List"
   ]
  },
  {
   "cell_type": "code",
   "execution_count": 39,
   "metadata": {},
   "outputs": [],
   "source": [
    "from collections import defaultdict\n",
    "from dataclasses import dataclass, field\n",
    "\n",
    "@dataclass\n",
    "class Graph:\n",
    "    adjacencyList: defaultdict = field(\n",
    "        init=False, default_factory=lambda: defaultdict(set))\n",
    "\n",
    "    def __edgeCheck(fun):\n",
    "        \"\"\"\n",
    "        Check if forward and reverse edge exist for source and destination node\n",
    "        \"\"\"\n",
    "        def inner(*args, **kwargs):\n",
    "            if args[0].adjacencyList.get(args[1], None) and args[2] in args[0].adjacencyList[args[1]]:\n",
    "                # check if forward node exists\n",
    "                return fun(*args, **kwargs)\n",
    "            else:\n",
    "                print(f\"{args[1]} -> {args[2]} edge does not exist\")\n",
    "            if args[0].adjacencyList.get(args[2], None) and args[1] in args[0].adjacencyList[args[2]]:\n",
    "                # check if reverse node exists\n",
    "                return fun(*args, **kwargs)\n",
    "            else:\n",
    "                print(f\"{args[2]} -> {args[1]} edge does not exist\")\n",
    "        return inner\n",
    "\n",
    "    def addEdge(self, source: int, destination: int) -> None:\n",
    "        \"\"\"\n",
    "        Add edge to source and destination node\n",
    "        \"\"\"\n",
    "        # add forward edge\n",
    "        self.adjacencyList[source].add(destination)\n",
    "        # add reverse edge\n",
    "        self.adjacencyList[destination].add(source)\n",
    "\n",
    "    @__edgeCheck\n",
    "    def removeEdge(self, source: int, destination: int) -> None:\n",
    "        \"\"\"\n",
    "        Remove edge to source and destination node\n",
    "        \"\"\"\n",
    "        # remove forward edge\n",
    "        self.adjacencyList[source].remove(destination)\n",
    "        if not len(self.adjacencyList[source]):\n",
    "            # if vertex has no more edges, remove vertex\n",
    "            self.adjacencyList.pop(source)\n",
    "        \n",
    "        # remove reverse edge\n",
    "        self.adjacencyList[destination].remove(source)\n",
    "        if not len(self.adjacencyList[destination]):\n",
    "            # if vertex has no more edges, remove vertex\n",
    "            self.adjacencyList.pop(destination)\n"
   ]
  },
  {
   "cell_type": "code",
   "execution_count": 40,
   "metadata": {},
   "outputs": [],
   "source": [
    "graph = Graph()"
   ]
  },
  {
   "cell_type": "code",
   "execution_count": 44,
   "metadata": {},
   "outputs": [],
   "source": [
    "graph.removeEdge(0,1)"
   ]
  },
  {
   "cell_type": "code",
   "execution_count": 42,
   "metadata": {},
   "outputs": [],
   "source": [
    "graph.addEdge(0,1)"
   ]
  },
  {
   "cell_type": "code",
   "execution_count": 45,
   "metadata": {},
   "outputs": [
    {
     "data": {
      "text/plain": [
       "defaultdict(set, {})"
      ]
     },
     "execution_count": 45,
     "metadata": {},
     "output_type": "execute_result"
    }
   ],
   "source": [
    "graph.adjacencyList"
   ]
  }
 ],
 "metadata": {
  "interpreter": {
   "hash": "38740d3277777e2cd7c6c2cc9d8addf5118fdf3f82b1b39231fd12aeac8aee8b"
  },
  "kernelspec": {
   "display_name": "Python 3.7.9 ('base')",
   "language": "python",
   "name": "python3"
  },
  "language_info": {
   "codemirror_mode": {
    "name": "ipython",
    "version": 3
   },
   "file_extension": ".py",
   "mimetype": "text/x-python",
   "name": "python",
   "nbconvert_exporter": "python",
   "pygments_lexer": "ipython3",
   "version": "3.7.9"
  },
  "orig_nbformat": 4
 },
 "nbformat": 4,
 "nbformat_minor": 2
}
